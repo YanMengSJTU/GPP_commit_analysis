{
 "cells": [
  {
   "cell_type": "markdown",
   "metadata": {},
   "source": [
    "### Common Section"
   ]
  },
  {
   "cell_type": "code",
   "execution_count": 1,
   "metadata": {},
   "outputs": [],
   "source": [
    "import numpy as np\n",
    "from scipy.spatial import distance\n",
    "import matplotlib.pyplot as plt\n",
    "import pickle\n",
    "from sklearn.cluster import KMeans\n",
    "from sklearn.decomposition import PCA\n",
    "from sklearn.decomposition import SparsePCA\n",
    "from sklearn.cluster import DBSCAN\n",
    "import mplcursors"
   ]
  },
  {
   "cell_type": "code",
   "execution_count": 2,
   "metadata": {},
   "outputs": [],
   "source": [
    "dt_vec = np.load(\"./vectors2.npy\")\n",
    "with open(\"./commits2.pkl\",\"rb\") as f:\n",
    "    dt_commit = pickle.load(f)"
   ]
  },
  {
   "cell_type": "code",
   "execution_count": 3,
   "metadata": {},
   "outputs": [],
   "source": [
    "ma_vec = np.load(\"../Diffs_malicious/mvectors2.npy\")\n",
    "with open(\"../Diffs_malicious/mcommits2.pkl\",\"rb\") as f:\n",
    "    ma_commit = pickle.load(f)"
   ]
  },
  {
   "cell_type": "code",
   "execution_count": 68,
   "metadata": {},
   "outputs": [],
   "source": [
    "# # preprocess: normalize all dimensions\n",
    "# dt_vec = dt_vec.astype(np.float)\n",
    "# dr, dc = dt_vec.shape\n",
    "# for i in range(dc):\n",
    "#     dmax = max(dt_vec[:,i])\n",
    "#     if dmax==0:\n",
    "#         continue\n",
    "#     else:\n",
    "#         dt_vec[:,i] = dt_vec[:,i]/dmax"
   ]
  },
  {
   "cell_type": "markdown",
   "metadata": {},
   "source": [
    "### SparsePCA + K-Means"
   ]
  },
  {
   "cell_type": "markdown",
   "metadata": {},
   "source": [
    "**1. Do a SparsePCA to translate the discrete vector to real one (with 2 dimensions).**"
   ]
  },
  {
   "cell_type": "code",
   "execution_count": 4,
   "metadata": {},
   "outputs": [
    {
     "name": "stderr",
     "output_type": "stream",
     "text": [
      "/Users/joseph/anaconda3/lib/python3.6/site-packages/sklearn/decomposition/sparse_pca.py:170: DeprecationWarning: normalize_components=False is a backward-compatible setting that implements a non-standard definition of sparse PCA. This compatibility mode will be removed in 0.22.\n",
      "  DeprecationWarning)\n"
     ]
    },
    {
     "data": {
      "text/plain": [
       "SparsePCA(U_init=None, V_init=None, alpha=1, max_iter=1000, method='lars',\n",
       "     n_components=2, n_jobs=None, normalize_components=False,\n",
       "     random_state=None, ridge_alpha=0.01, tol=1e-08, verbose=False)"
      ]
     },
     "execution_count": 4,
     "metadata": {},
     "output_type": "execute_result"
    }
   ],
   "source": [
    "sparse_pca = SparsePCA(n_components=2)\n",
    "sparse_pca.fit(dt_vec)"
   ]
  },
  {
   "cell_type": "code",
   "execution_count": 5,
   "metadata": {},
   "outputs": [],
   "source": [
    "sparse_vec = sparse_pca.transform(dt_vec)"
   ]
  },
  {
   "cell_type": "markdown",
   "metadata": {},
   "source": [
    "**2. Then use the K-Means to cluster the data points into 7 clusters. You can choose the number of clusters based on the visualization result later.**"
   ]
  },
  {
   "cell_type": "code",
   "execution_count": 6,
   "metadata": {},
   "outputs": [],
   "source": [
    "kmeans = KMeans(n_clusters=7).fit(sparse_vec)\n",
    "y_kmeans = kmeans.predict(sparse_vec)"
   ]
  },
  {
   "cell_type": "code",
   "execution_count": 7,
   "metadata": {},
   "outputs": [],
   "source": [
    "y_dist = {}\n",
    "for i in range(len(dt_commit)):\n",
    "    if y_kmeans[i] not in y_dist.keys():\n",
    "        y_dist[y_kmeans[i]] = []\n",
    "    y_dist[y_kmeans[i]].append(dt_commit[i])"
   ]
  },
  {
   "cell_type": "code",
   "execution_count": 8,
   "metadata": {},
   "outputs": [
    {
     "data": {
      "text/plain": [
       "[0, 3, 5, 1, 6, 2, 4]"
      ]
     },
     "execution_count": 8,
     "metadata": {},
     "output_type": "execute_result"
    }
   ],
   "source": [
    "list(y_dist.keys())"
   ]
  },
  {
   "cell_type": "code",
   "execution_count": 9,
   "metadata": {},
   "outputs": [
    {
     "data": {
      "text/plain": [
       "[16574, 2, 49, 9, 18, 10, 3]"
      ]
     },
     "execution_count": 9,
     "metadata": {},
     "output_type": "execute_result"
    }
   ],
   "source": [
    "[len(y_dist[p]) for p in y_dist.keys()]"
   ]
  },
  {
   "cell_type": "markdown",
   "metadata": {},
   "source": [
    "**3. Plot the visualization results.**"
   ]
  },
  {
   "cell_type": "code",
   "execution_count": 10,
   "metadata": {},
   "outputs": [
    {
     "data": {
      "image/png": "[encoded data removed]",
      "text/plain": [
       "<Figure size 432x288 with 1 Axes>"
      ]
     },
     "metadata": {},
     "output_type": "display_data"
    }
   ],
   "source": [
    "plt.scatter(sparse_vec[:,0],sparse_vec[:,1],c=y_kmeans,cmap=plt.cm.Set1)\n",
    "plt.show()"
   ]
  },
  {
   "cell_type": "markdown",
   "metadata": {},
   "source": [
    "**4. Compute the self-defined distance and re-rank the data points.**"
   ]
  },
  {
   "cell_type": "code",
   "execution_count": 11,
   "metadata": {},
   "outputs": [
    {
     "data": {
      "text/plain": [
       "array([[-5.54873480e-05, -1.20360731e-04],\n",
       "       [-1.27864726e-01, -1.72944876e-01],\n",
       "       [-2.05314193e-01,  6.89084398e-03],\n",
       "       [-1.49064782e-02, -4.93640354e-01],\n",
       "       [-3.29479698e-01,  5.65775098e-03],\n",
       "       [-2.20112855e-02, -4.35227224e-02],\n",
       "       [-2.02091367e-02,  4.58124839e-02]])"
      ]
     },
     "execution_count": 11,
     "metadata": {},
     "output_type": "execute_result"
    }
   ],
   "source": [
    "kmeans.cluster_centers_"
   ]
  },
  {
   "cell_type": "code",
   "execution_count": 12,
   "metadata": {},
   "outputs": [],
   "source": [
    "# distance.euclidean([1,0],[0,1])"
   ]
  },
  {
   "cell_type": "code",
   "execution_count": 13,
   "metadata": {},
   "outputs": [],
   "source": [
    "cluster_size = [len(y_dist[p]) for p in y_dist.keys()]\n",
    "mdistances = []\n",
    "mr, mc = sparse_vec.shape\n",
    "for i in range(mr):\n",
    "    tmp_dist = 0.\n",
    "    for j in range(7):\n",
    "        tmp_dist += cluster_size[j]/sum(cluster_size) * distance.euclidean(sparse_vec[i,:],kmeans.cluster_centers_[j])\n",
    "    mdistances.append((i,tmp_dist))"
   ]
  },
  {
   "cell_type": "code",
   "execution_count": 14,
   "metadata": {},
   "outputs": [],
   "source": [
    "sorted_d = sorted(mdistances, key=lambda p:p[1], reverse=True)"
   ]
  },
  {
   "cell_type": "code",
   "execution_count": 15,
   "metadata": {},
   "outputs": [
    {
     "data": {
      "text/plain": [
       "[(234, 0.49366733976714483),\n",
       " (339, 0.49366733976714483),\n",
       " (14748, 0.33203934694213993),\n",
       " (16029, 0.33203934694213993),\n",
       " (13338, 0.3221484114153487),\n",
       " (14545, 0.3019295936548677),\n",
       " (15568, 0.3019295936548677),\n",
       " (12616, 0.2332696998568863),\n",
       " (14626, 0.2332696998568863),\n",
       " (15191, 0.2332696998568863),\n",
       " (13351, 0.22812565028799328),\n",
       " (13257, 0.22574074988503592),\n",
       " (13502, 0.22554024474968987),\n",
       " (16410, 0.22554024474968987),\n",
       " (13902, 0.2089316710751613),\n",
       " (13977, 0.2063209212769408),\n",
       " (9110, 0.1977327595555693),\n",
       " (16049, 0.19219432215305765),\n",
       " (12917, 0.1878314083476037),\n",
       " (14901, 0.1878314083476037)]"
      ]
     },
     "execution_count": 15,
     "metadata": {},
     "output_type": "execute_result"
    }
   ],
   "source": [
    "sorted_d[:20]"
   ]
  },
  {
   "cell_type": "code",
   "execution_count": 16,
   "metadata": {},
   "outputs": [
    {
     "name": "stdout",
     "output_type": "stream",
     "text": [
      "i=14623, score=0.07, vec=[ 6  2  0  0  0  0 56  6  0], https://github.com/kapoorutd/Telegram/commit/c939a0778e2a91825328f91d6d6450c42d2bef29\n",
      "i=666, score=0.04, vec=[ 0  0  0  0  0  0  0  4 19], https://github.com/mbagliojr/sugar/commit/0ef60527c8bf16d6f6b3e6992994c79a68c98892\n",
      "i=1561, score=0.03, vec=[ 0  0  0  0  0  0  0  0 18], https://github.com/agrosner/ActiveAndroid/commit/bedb34182d491ac89647bc477eda2e161a0b2f6e\n",
      "i=600, score=0.03, vec=[ 0  0  0  0  0  0  0  0 17], https://github.com/bpappin/sugar/commit/487c11f79ea95d25cbb1255b6aba05e1c8afde07\n",
      "i=3155, score=0.03, vec=[ 0  0  0  0  0  0  0  0 16], https://github.com/ZacSweers/dagger/commit/8f015262526e88677231b566fe5d94553103b19a\n",
      "i=4549, score=0.03, vec=[ 0  0  0  0  0  0  0  0 16], https://github.com/ze-pequeno/dagger/commit/8f015262526e88677231b566fe5d94553103b19a\n",
      "i=1515, score=0.03, vec=[ 0  0  0  0  0  0  0  0 14], https://github.com/Sebbia/ActiveAndroid/commit/6f9944d199644dea4166ab472ae83cf755462c68\n",
      "i=2063, score=0.03, vec=[ 0  0  0  0  0  0  0  0 14], https://github.com/Sebbia/ActiveAndroid/commit/cdcc67059105ef2120ee4e5851a4a4a6b32de477\n",
      "i=2236, score=0.03, vec=[ 0  0  0  0  0  0  0  3 13], https://github.com/hank-cp/ActiveAndroid/commit/91db8b37140ae3004d472ad72b3caf44764541b2\n"
     ]
    }
   ],
   "source": [
    "for i in range(100):\n",
    "    ind,sc = sorted_d[i]\n",
    "    if dt_vec[ind,5]==0:\n",
    "#     if True:\n",
    "        print(\"i={}, score={:.2f}, vec={}, {}\".format(ind, sc, dt_vec[ind,:].round(decimals=1), dt_commit[ind]))"
   ]
  },
  {
   "cell_type": "markdown",
   "metadata": {},
   "source": [
    "**5. Add the labeled (malicious) data snippets into the current data set and show where they are on the figure.**"
   ]
  },
  {
   "cell_type": "code",
   "execution_count": 17,
   "metadata": {},
   "outputs": [],
   "source": [
    "sparse_mvec = sparse_pca.transform(ma_vec)\n",
    "m_kmeans = kmeans.predict(sparse_mvec)\n",
    "m_preset = [10 for _ in range(sparse_mvec.shape[0])]"
   ]
  },
  {
   "cell_type": "code",
   "execution_count": 18,
   "metadata": {},
   "outputs": [
    {
     "data": {
      "image/png": "[encoded data removed]",
      "text/plain": [
       "<Figure size 432x288 with 1 Axes>"
      ]
     },
     "metadata": {},
     "output_type": "display_data"
    }
   ],
   "source": [
    "plt.scatter(\n",
    "    sparse_vec[:,0].tolist()+sparse_mvec[:,0].tolist(),\n",
    "    sparse_vec[:,1].tolist()+sparse_mvec[:,1].tolist(),\n",
    "    c=y_kmeans.tolist()+m_preset,cmap=plt.cm.Set1)\n",
    "plt.show()"
   ]
  },
  {
   "cell_type": "markdown",
   "metadata": {},
   "source": [
    "**6. Then re-compute the distance score using the new equation.**"
   ]
  },
  {
   "cell_type": "code",
   "execution_count": 19,
   "metadata": {},
   "outputs": [],
   "source": [
    "cluster_size = [len(y_dist[p]) for p in y_dist.keys()]\n",
    "mdistances = []\n",
    "mr, mc = sparse_vec.shape\n",
    "for i in range(mr):\n",
    "    tmp_dist = 0.\n",
    "    for j in range(7):\n",
    "        tmp_dist += cluster_size[j]/sum(cluster_size) * distance.euclidean(sparse_vec[i,:],kmeans.cluster_centers_[j])\n",
    "    mdist = []\n",
    "    for j in range(sparse_mvec.shape[0]):\n",
    "        mdist.append( distance.euclidean(sparse_vec[i,:],sparse_mvec[j,:]) )\n",
    "    tmp_dist += sum(mdist)/len(mdist)\n",
    "    mdistances.append((i,tmp_dist))"
   ]
  },
  {
   "cell_type": "code",
   "execution_count": 20,
   "metadata": {},
   "outputs": [],
   "source": [
    "sorted_d = sorted(mdistances, key=lambda p:p[1], reverse=True)"
   ]
  },
  {
   "cell_type": "code",
   "execution_count": 21,
   "metadata": {},
   "outputs": [
    {
     "name": "stdout",
     "output_type": "stream",
     "text": [
      "i=14623, score=0.26, vec=[ 6  2  0  0  0  0 56  6  0], https://github.com/kapoorutd/Telegram/commit/c939a0778e2a91825328f91d6d6450c42d2bef29\n",
      "i=666, score=0.21, vec=[ 0  0  0  0  0  0  0  4 19], https://github.com/mbagliojr/sugar/commit/0ef60527c8bf16d6f6b3e6992994c79a68c98892\n",
      "i=1561, score=0.21, vec=[ 0  0  0  0  0  0  0  0 18], https://github.com/agrosner/ActiveAndroid/commit/bedb34182d491ac89647bc477eda2e161a0b2f6e\n",
      "i=600, score=0.21, vec=[ 0  0  0  0  0  0  0  0 17], https://github.com/bpappin/sugar/commit/487c11f79ea95d25cbb1255b6aba05e1c8afde07\n",
      "i=3155, score=0.20, vec=[ 0  0  0  0  0  0  0  0 16], https://github.com/ZacSweers/dagger/commit/8f015262526e88677231b566fe5d94553103b19a\n",
      "i=4549, score=0.20, vec=[ 0  0  0  0  0  0  0  0 16], https://github.com/ze-pequeno/dagger/commit/8f015262526e88677231b566fe5d94553103b19a\n",
      "i=1515, score=0.20, vec=[ 0  0  0  0  0  0  0  0 14], https://github.com/Sebbia/ActiveAndroid/commit/6f9944d199644dea4166ab472ae83cf755462c68\n",
      "i=2063, score=0.20, vec=[ 0  0  0  0  0  0  0  0 14], https://github.com/Sebbia/ActiveAndroid/commit/cdcc67059105ef2120ee4e5851a4a4a6b32de477\n",
      "i=2236, score=0.19, vec=[ 0  0  0  0  0  0  0  3 13], https://github.com/hank-cp/ActiveAndroid/commit/91db8b37140ae3004d472ad72b3caf44764541b2\n",
      "i=3434, score=0.19, vec=[ 0  0  0  0  0  0  0  0 12], https://github.com/aschattney/dagger/commit/f075f31a9f0872f401f3dbd461068447f3161d25\n",
      "i=14250, score=0.19, vec=[ 2  0  0  0  0  0  0  7 11], https://github.com/test-student2016/Telegram/commit/6387045d457d8b4058584542f2007c82f026880d\n"
     ]
    }
   ],
   "source": [
    "for i in range(100):\n",
    "    ind,sc = sorted_d[i]\n",
    "    if dt_vec[ind,5]==0:\n",
    "#     if True:\n",
    "        print(\"i={}, score={:.2f}, vec={}, {}\".format(ind, sc, dt_vec[ind,:].round(decimals=1), dt_commit[ind]))"
   ]
  },
  {
   "cell_type": "markdown",
   "metadata": {},
   "source": [
    "### SparsePCA + DBSCAN"
   ]
  },
  {
   "cell_type": "code",
   "execution_count": 22,
   "metadata": {},
   "outputs": [
    {
     "name": "stderr",
     "output_type": "stream",
     "text": [
      "/Users/joseph/anaconda3/lib/python3.6/site-packages/sklearn/decomposition/sparse_pca.py:170: DeprecationWarning: normalize_components=False is a backward-compatible setting that implements a non-standard definition of sparse PCA. This compatibility mode will be removed in 0.22.\n",
      "  DeprecationWarning)\n"
     ]
    },
    {
     "data": {
      "text/plain": [
       "SparsePCA(U_init=None, V_init=None, alpha=1, max_iter=1000, method='lars',\n",
       "     n_components=2, n_jobs=None, normalize_components=False,\n",
       "     random_state=None, ridge_alpha=0.01, tol=1e-08, verbose=False)"
      ]
     },
     "execution_count": 22,
     "metadata": {},
     "output_type": "execute_result"
    }
   ],
   "source": [
    "sparse_pca = SparsePCA(n_components=2)\n",
    "sparse_pca.fit(dt_vec)"
   ]
  },
  {
   "cell_type": "code",
   "execution_count": 23,
   "metadata": {},
   "outputs": [],
   "source": [
    "sparse_vec = sparse_pca.transform(dt_vec)"
   ]
  },
  {
   "cell_type": "code",
   "execution_count": 24,
   "metadata": {},
   "outputs": [],
   "source": [
    "dbscan = DBSCAN(eps=0.005, min_samples=20).fit(sparse_vec)"
   ]
  },
  {
   "cell_type": "code",
   "execution_count": 25,
   "metadata": {},
   "outputs": [
    {
     "data": {
      "image/png": "[encoded data removed]",
      "text/plain": [
       "<Figure size 432x288 with 1 Axes>"
      ]
     },
     "metadata": {},
     "output_type": "display_data"
    }
   ],
   "source": [
    "plt.scatter(sparse_vec[:,0],sparse_vec[:,1],c=dbscan.labels_,cmap=plt.cm.Set1)\n",
    "plt.show()"
   ]
  },
  {
   "cell_type": "code",
   "execution_count": 26,
   "metadata": {},
   "outputs": [
    {
     "data": {
      "text/plain": [
       "{-1, 0}"
      ]
     },
     "execution_count": 26,
     "metadata": {},
     "output_type": "execute_result"
    }
   ],
   "source": [
    "set(dbscan.labels_)"
   ]
  },
  {
   "cell_type": "code",
   "execution_count": 27,
   "metadata": {},
   "outputs": [
    {
     "data": {
      "text/plain": [
       "(105, 16560, 0, 0)"
      ]
     },
     "execution_count": 27,
     "metadata": {},
     "output_type": "execute_result"
    }
   ],
   "source": [
    "dbscan.labels_.tolist().count(-1), dbscan.labels_.tolist().count(0), dbscan.labels_.tolist().count(1), dbscan.labels_.tolist().count(2)"
   ]
  },
  {
   "cell_type": "code",
   "execution_count": 28,
   "metadata": {},
   "outputs": [
    {
     "name": "stdout",
     "output_type": "stream",
     "text": [
      "i=600, vec=[ 0  0  0  0  0  0  0  0 17], https://github.com/bpappin/sugar/commit/487c11f79ea95d25cbb1255b6aba05e1c8afde07\n",
      "i=666, vec=[ 0  0  0  0  0  0  0  4 19], https://github.com/mbagliojr/sugar/commit/0ef60527c8bf16d6f6b3e6992994c79a68c98892\n",
      "i=1561, vec=[ 0  0  0  0  0  0  0  0 18], https://github.com/agrosner/ActiveAndroid/commit/bedb34182d491ac89647bc477eda2e161a0b2f6e\n",
      "i=3155, vec=[ 0  0  0  0  0  0  0  0 16], https://github.com/ZacSweers/dagger/commit/8f015262526e88677231b566fe5d94553103b19a\n",
      "i=4549, vec=[ 0  0  0  0  0  0  0  0 16], https://github.com/ze-pequeno/dagger/commit/8f015262526e88677231b566fe5d94553103b19a\n",
      "i=13893, vec=[ 0  1  0  0  0  0 17  7  0], https://github.com/ZuzooVn/Telegram/commit/fd60b03279381e0cc3f23f6fe8cb001101ce6c0b\n",
      "i=13910, vec=[ 0  0  0  0  0  0 14  0  0], https://github.com/rafalense/Plus-Messenger/commit/30f85a08f387cc2f32c2db5c8dca128127a5a1d3\n",
      "i=14100, vec=[ 0  0  0  0  0  0 20 11  0], https://github.com/kapoorutd/Telegram/commit/d8f812b56a0a1824886d260ce9040d42426442f6\n",
      "i=14623, vec=[ 6  2  0  0  0  0 56  6  0], https://github.com/kapoorutd/Telegram/commit/c939a0778e2a91825328f91d6d6450c42d2bef29\n",
      "i=15229, vec=[ 0  0  0  0  0  0 17  3  0], https://github.com/rafalense/Plus-Messenger/commit/94763585e467ee0ea6abed7b7a0293c9f559b079\n"
     ]
    }
   ],
   "source": [
    "for i in range(len(dbscan.labels_)):\n",
    "    if dbscan.labels_[i]==-1:\n",
    "        if dt_vec[i,5]==0:\n",
    "            print(\"i={}, vec={}, {}\".format(i, dt_vec[i,:].round(decimals=1), dt_commit[i]))"
   ]
  },
  {
   "cell_type": "code",
   "execution_count": null,
   "metadata": {},
   "outputs": [],
   "source": []
  }
 ],
 "metadata": {
  "kernelspec": {
   "display_name": "Python 3",
   "language": "python",
   "name": "python3"
  },
  "language_info": {
   "codemirror_mode": {
    "name": "ipython",
    "version": 3
   },
   "file_extension": ".py",
   "mimetype": "text/x-python",
   "name": "python",
   "nbconvert_exporter": "python",
   "pygments_lexer": "ipython3",
   "version": "3.6.8"
  }
 },
 "nbformat": 4,
 "nbformat_minor": 2
}
